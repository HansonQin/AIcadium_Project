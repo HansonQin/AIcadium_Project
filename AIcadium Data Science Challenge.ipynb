{
 "cells": [
  {
   "cell_type": "markdown",
   "id": "12c76d0e",
   "metadata": {},
   "source": [
    "# AIcadium Data Science Challenge"
   ]
  },
  {
   "cell_type": "markdown",
   "id": "d3f4c36e",
   "metadata": {},
   "source": [
    "# 1. Imports and Data Loading"
   ]
  },
  {
   "cell_type": "markdown",
   "id": "d28fec72",
   "metadata": {},
   "source": [
    "We import the data from Github, inspect it, and check for missing values. Fortunately, there are no missing values in this dataset."
   ]
  },
  {
   "cell_type": "code",
   "execution_count": 104,
   "id": "bb2ad5e9",
   "metadata": {},
   "outputs": [],
   "source": [
    "import pandas as pd\n",
    "import numpy as np\n",
    "import matplotlib.pyplot as plt\n",
    "import seaborn as sns\n",
    "import xgboost as xgb\n",
    "import shap\n",
    "from sklearn import svm\n",
    "from sklearn.linear_model import LogisticRegression\n",
    "from sklearn.preprocessing import OneHotEncoder, StandardScaler \n",
    "from sklearn.metrics import average_precision_score\n",
    "from sklearn.model_selection import cross_val_score\n",
    "from sklearn.metrics import f1_score\n",
    "from sklearn.metrics import roc_curve, auc\n",
    "from sklearn.metrics import roc_auc_score\n",
    "from sklearn.metrics import accuracy_score\n",
    "import warnings\n",
    "pd.set_option(\"display.max_columns\", 101)\n",
    "rng = np.random.default_rng(1)"
   ]
  },
  {
   "cell_type": "code",
   "execution_count": 9,
   "id": "cf5da54b",
   "metadata": {},
   "outputs": [
    {
     "data": {
      "text/plain": [
       "(12330, 18)"
      ]
     },
     "execution_count": 9,
     "metadata": {},
     "output_type": "execute_result"
    }
   ],
   "source": [
    "#Ingesting the data\n",
    "url = 'https://raw.githubusercontent.com/HansonQin/AIcadium_Project/main/coding_round_data.csv'\n",
    "df = pd.read_csv(url)"
   ]
  },
  {
   "cell_type": "code",
   "execution_count": 138,
   "id": "5d40fb66",
   "metadata": {},
   "outputs": [
    {
     "data": {
      "text/html": [
       "<div>\n",
       "<style scoped>\n",
       "    .dataframe tbody tr th:only-of-type {\n",
       "        vertical-align: middle;\n",
       "    }\n",
       "\n",
       "    .dataframe tbody tr th {\n",
       "        vertical-align: top;\n",
       "    }\n",
       "\n",
       "    .dataframe thead th {\n",
       "        text-align: right;\n",
       "    }\n",
       "</style>\n",
       "<table border=\"1\" class=\"dataframe\">\n",
       "  <thead>\n",
       "    <tr style=\"text-align: right;\">\n",
       "      <th></th>\n",
       "      <th>Administrative</th>\n",
       "      <th>Administrative_Duration</th>\n",
       "      <th>Informational</th>\n",
       "      <th>Informational_Duration</th>\n",
       "      <th>ProductRelated</th>\n",
       "      <th>ProductRelated_Duration</th>\n",
       "      <th>BounceRates</th>\n",
       "      <th>ExitRates</th>\n",
       "      <th>PageValues</th>\n",
       "      <th>SpecialDay</th>\n",
       "      <th>Month</th>\n",
       "      <th>OperatingSystems</th>\n",
       "      <th>Browser</th>\n",
       "      <th>Region</th>\n",
       "      <th>TrafficType</th>\n",
       "      <th>VisitorType</th>\n",
       "      <th>Weekend</th>\n",
       "      <th>Revenue</th>\n",
       "    </tr>\n",
       "  </thead>\n",
       "  <tbody>\n",
       "    <tr>\n",
       "      <th>0</th>\n",
       "      <td>0</td>\n",
       "      <td>0.0</td>\n",
       "      <td>0</td>\n",
       "      <td>0.0</td>\n",
       "      <td>1</td>\n",
       "      <td>0.000000</td>\n",
       "      <td>0.20</td>\n",
       "      <td>0.20</td>\n",
       "      <td>0.0</td>\n",
       "      <td>0.0</td>\n",
       "      <td>Feb</td>\n",
       "      <td>1</td>\n",
       "      <td>1</td>\n",
       "      <td>1</td>\n",
       "      <td>1</td>\n",
       "      <td>Returning_Visitor</td>\n",
       "      <td>False</td>\n",
       "      <td>0</td>\n",
       "    </tr>\n",
       "    <tr>\n",
       "      <th>1</th>\n",
       "      <td>0</td>\n",
       "      <td>0.0</td>\n",
       "      <td>0</td>\n",
       "      <td>0.0</td>\n",
       "      <td>2</td>\n",
       "      <td>64.000000</td>\n",
       "      <td>0.00</td>\n",
       "      <td>0.10</td>\n",
       "      <td>0.0</td>\n",
       "      <td>0.0</td>\n",
       "      <td>Feb</td>\n",
       "      <td>2</td>\n",
       "      <td>2</td>\n",
       "      <td>1</td>\n",
       "      <td>2</td>\n",
       "      <td>Returning_Visitor</td>\n",
       "      <td>False</td>\n",
       "      <td>0</td>\n",
       "    </tr>\n",
       "    <tr>\n",
       "      <th>2</th>\n",
       "      <td>0</td>\n",
       "      <td>0.0</td>\n",
       "      <td>0</td>\n",
       "      <td>0.0</td>\n",
       "      <td>1</td>\n",
       "      <td>0.000000</td>\n",
       "      <td>0.20</td>\n",
       "      <td>0.20</td>\n",
       "      <td>0.0</td>\n",
       "      <td>0.0</td>\n",
       "      <td>Feb</td>\n",
       "      <td>4</td>\n",
       "      <td>1</td>\n",
       "      <td>9</td>\n",
       "      <td>3</td>\n",
       "      <td>Returning_Visitor</td>\n",
       "      <td>False</td>\n",
       "      <td>0</td>\n",
       "    </tr>\n",
       "    <tr>\n",
       "      <th>3</th>\n",
       "      <td>0</td>\n",
       "      <td>0.0</td>\n",
       "      <td>0</td>\n",
       "      <td>0.0</td>\n",
       "      <td>2</td>\n",
       "      <td>2.666667</td>\n",
       "      <td>0.05</td>\n",
       "      <td>0.14</td>\n",
       "      <td>0.0</td>\n",
       "      <td>0.0</td>\n",
       "      <td>Feb</td>\n",
       "      <td>3</td>\n",
       "      <td>2</td>\n",
       "      <td>2</td>\n",
       "      <td>4</td>\n",
       "      <td>Returning_Visitor</td>\n",
       "      <td>False</td>\n",
       "      <td>0</td>\n",
       "    </tr>\n",
       "    <tr>\n",
       "      <th>4</th>\n",
       "      <td>0</td>\n",
       "      <td>0.0</td>\n",
       "      <td>0</td>\n",
       "      <td>0.0</td>\n",
       "      <td>10</td>\n",
       "      <td>627.500000</td>\n",
       "      <td>0.02</td>\n",
       "      <td>0.05</td>\n",
       "      <td>0.0</td>\n",
       "      <td>0.0</td>\n",
       "      <td>Feb</td>\n",
       "      <td>3</td>\n",
       "      <td>3</td>\n",
       "      <td>1</td>\n",
       "      <td>4</td>\n",
       "      <td>Returning_Visitor</td>\n",
       "      <td>True</td>\n",
       "      <td>0</td>\n",
       "    </tr>\n",
       "  </tbody>\n",
       "</table>\n",
       "</div>"
      ],
      "text/plain": [
       "   Administrative  Administrative_Duration  Informational  \\\n",
       "0               0                      0.0              0   \n",
       "1               0                      0.0              0   \n",
       "2               0                      0.0              0   \n",
       "3               0                      0.0              0   \n",
       "4               0                      0.0              0   \n",
       "\n",
       "   Informational_Duration  ProductRelated  ProductRelated_Duration  \\\n",
       "0                     0.0               1                 0.000000   \n",
       "1                     0.0               2                64.000000   \n",
       "2                     0.0               1                 0.000000   \n",
       "3                     0.0               2                 2.666667   \n",
       "4                     0.0              10               627.500000   \n",
       "\n",
       "   BounceRates  ExitRates  PageValues  SpecialDay Month  OperatingSystems  \\\n",
       "0         0.20       0.20         0.0         0.0   Feb                 1   \n",
       "1         0.00       0.10         0.0         0.0   Feb                 2   \n",
       "2         0.20       0.20         0.0         0.0   Feb                 4   \n",
       "3         0.05       0.14         0.0         0.0   Feb                 3   \n",
       "4         0.02       0.05         0.0         0.0   Feb                 3   \n",
       "\n",
       "   Browser  Region  TrafficType        VisitorType  Weekend  Revenue  \n",
       "0        1       1            1  Returning_Visitor    False        0  \n",
       "1        2       1            2  Returning_Visitor    False        0  \n",
       "2        1       9            3  Returning_Visitor    False        0  \n",
       "3        2       2            4  Returning_Visitor    False        0  \n",
       "4        3       1            4  Returning_Visitor     True        0  "
      ]
     },
     "execution_count": 138,
     "metadata": {},
     "output_type": "execute_result"
    }
   ],
   "source": [
    "df.head(5)"
   ]
  },
  {
   "cell_type": "code",
   "execution_count": 11,
   "id": "edcbe58c",
   "metadata": {},
   "outputs": [
    {
     "data": {
      "text/plain": [
       "(12330, 18)"
      ]
     },
     "execution_count": 11,
     "metadata": {},
     "output_type": "execute_result"
    }
   ],
   "source": [
    "df.shape"
   ]
  },
  {
   "cell_type": "code",
   "execution_count": 12,
   "id": "20f09366",
   "metadata": {},
   "outputs": [
    {
     "data": {
      "text/plain": [
       "Index(['Administrative', 'Administrative_Duration', 'Informational',\n",
       "       'Informational_Duration', 'ProductRelated', 'ProductRelated_Duration',\n",
       "       'BounceRates', 'ExitRates', 'PageValues', 'SpecialDay', 'Month',\n",
       "       'OperatingSystems', 'Browser', 'Region', 'TrafficType', 'VisitorType',\n",
       "       'Weekend', 'Revenue'],\n",
       "      dtype='object')"
      ]
     },
     "execution_count": 12,
     "metadata": {},
     "output_type": "execute_result"
    }
   ],
   "source": [
    "df.columns"
   ]
  },
  {
   "cell_type": "code",
   "execution_count": 13,
   "id": "4e19a0f9",
   "metadata": {},
   "outputs": [
    {
     "data": {
      "text/html": [
       "<div>\n",
       "<style scoped>\n",
       "    .dataframe tbody tr th:only-of-type {\n",
       "        vertical-align: middle;\n",
       "    }\n",
       "\n",
       "    .dataframe tbody tr th {\n",
       "        vertical-align: top;\n",
       "    }\n",
       "\n",
       "    .dataframe thead th {\n",
       "        text-align: right;\n",
       "    }\n",
       "</style>\n",
       "<table border=\"1\" class=\"dataframe\">\n",
       "  <thead>\n",
       "    <tr style=\"text-align: right;\">\n",
       "      <th></th>\n",
       "      <th>Administrative</th>\n",
       "      <th>Administrative_Duration</th>\n",
       "      <th>Informational</th>\n",
       "      <th>Informational_Duration</th>\n",
       "      <th>ProductRelated</th>\n",
       "      <th>ProductRelated_Duration</th>\n",
       "      <th>BounceRates</th>\n",
       "      <th>ExitRates</th>\n",
       "      <th>PageValues</th>\n",
       "      <th>SpecialDay</th>\n",
       "      <th>OperatingSystems</th>\n",
       "      <th>Browser</th>\n",
       "      <th>Region</th>\n",
       "      <th>TrafficType</th>\n",
       "    </tr>\n",
       "  </thead>\n",
       "  <tbody>\n",
       "    <tr>\n",
       "      <th>count</th>\n",
       "      <td>12330.000000</td>\n",
       "      <td>12330.000000</td>\n",
       "      <td>12330.000000</td>\n",
       "      <td>12330.000000</td>\n",
       "      <td>12330.000000</td>\n",
       "      <td>12330.000000</td>\n",
       "      <td>12330.000000</td>\n",
       "      <td>12330.000000</td>\n",
       "      <td>12330.000000</td>\n",
       "      <td>12330.000000</td>\n",
       "      <td>12330.000000</td>\n",
       "      <td>12330.000000</td>\n",
       "      <td>12330.000000</td>\n",
       "      <td>12330.000000</td>\n",
       "    </tr>\n",
       "    <tr>\n",
       "      <th>mean</th>\n",
       "      <td>2.315166</td>\n",
       "      <td>80.818611</td>\n",
       "      <td>0.503569</td>\n",
       "      <td>34.472398</td>\n",
       "      <td>31.731468</td>\n",
       "      <td>1194.746220</td>\n",
       "      <td>0.022191</td>\n",
       "      <td>0.043073</td>\n",
       "      <td>5.889258</td>\n",
       "      <td>0.061427</td>\n",
       "      <td>2.124006</td>\n",
       "      <td>2.357097</td>\n",
       "      <td>3.147364</td>\n",
       "      <td>4.069586</td>\n",
       "    </tr>\n",
       "    <tr>\n",
       "      <th>std</th>\n",
       "      <td>3.321784</td>\n",
       "      <td>176.779107</td>\n",
       "      <td>1.270156</td>\n",
       "      <td>140.749294</td>\n",
       "      <td>44.475503</td>\n",
       "      <td>1913.669288</td>\n",
       "      <td>0.048488</td>\n",
       "      <td>0.048597</td>\n",
       "      <td>18.568437</td>\n",
       "      <td>0.198917</td>\n",
       "      <td>0.911325</td>\n",
       "      <td>1.717277</td>\n",
       "      <td>2.401591</td>\n",
       "      <td>4.025169</td>\n",
       "    </tr>\n",
       "    <tr>\n",
       "      <th>min</th>\n",
       "      <td>0.000000</td>\n",
       "      <td>0.000000</td>\n",
       "      <td>0.000000</td>\n",
       "      <td>0.000000</td>\n",
       "      <td>0.000000</td>\n",
       "      <td>0.000000</td>\n",
       "      <td>0.000000</td>\n",
       "      <td>0.000000</td>\n",
       "      <td>0.000000</td>\n",
       "      <td>0.000000</td>\n",
       "      <td>1.000000</td>\n",
       "      <td>1.000000</td>\n",
       "      <td>1.000000</td>\n",
       "      <td>1.000000</td>\n",
       "    </tr>\n",
       "    <tr>\n",
       "      <th>25%</th>\n",
       "      <td>0.000000</td>\n",
       "      <td>0.000000</td>\n",
       "      <td>0.000000</td>\n",
       "      <td>0.000000</td>\n",
       "      <td>7.000000</td>\n",
       "      <td>184.137500</td>\n",
       "      <td>0.000000</td>\n",
       "      <td>0.014286</td>\n",
       "      <td>0.000000</td>\n",
       "      <td>0.000000</td>\n",
       "      <td>2.000000</td>\n",
       "      <td>2.000000</td>\n",
       "      <td>1.000000</td>\n",
       "      <td>2.000000</td>\n",
       "    </tr>\n",
       "    <tr>\n",
       "      <th>50%</th>\n",
       "      <td>1.000000</td>\n",
       "      <td>7.500000</td>\n",
       "      <td>0.000000</td>\n",
       "      <td>0.000000</td>\n",
       "      <td>18.000000</td>\n",
       "      <td>598.936905</td>\n",
       "      <td>0.003112</td>\n",
       "      <td>0.025156</td>\n",
       "      <td>0.000000</td>\n",
       "      <td>0.000000</td>\n",
       "      <td>2.000000</td>\n",
       "      <td>2.000000</td>\n",
       "      <td>3.000000</td>\n",
       "      <td>2.000000</td>\n",
       "    </tr>\n",
       "    <tr>\n",
       "      <th>75%</th>\n",
       "      <td>4.000000</td>\n",
       "      <td>93.256250</td>\n",
       "      <td>0.000000</td>\n",
       "      <td>0.000000</td>\n",
       "      <td>38.000000</td>\n",
       "      <td>1464.157214</td>\n",
       "      <td>0.016813</td>\n",
       "      <td>0.050000</td>\n",
       "      <td>0.000000</td>\n",
       "      <td>0.000000</td>\n",
       "      <td>3.000000</td>\n",
       "      <td>2.000000</td>\n",
       "      <td>4.000000</td>\n",
       "      <td>4.000000</td>\n",
       "    </tr>\n",
       "    <tr>\n",
       "      <th>max</th>\n",
       "      <td>27.000000</td>\n",
       "      <td>3398.750000</td>\n",
       "      <td>24.000000</td>\n",
       "      <td>2549.375000</td>\n",
       "      <td>705.000000</td>\n",
       "      <td>63973.522230</td>\n",
       "      <td>0.200000</td>\n",
       "      <td>0.200000</td>\n",
       "      <td>361.763742</td>\n",
       "      <td>1.000000</td>\n",
       "      <td>8.000000</td>\n",
       "      <td>13.000000</td>\n",
       "      <td>9.000000</td>\n",
       "      <td>20.000000</td>\n",
       "    </tr>\n",
       "  </tbody>\n",
       "</table>\n",
       "</div>"
      ],
      "text/plain": [
       "       Administrative  Administrative_Duration  Informational  \\\n",
       "count    12330.000000             12330.000000   12330.000000   \n",
       "mean         2.315166                80.818611       0.503569   \n",
       "std          3.321784               176.779107       1.270156   \n",
       "min          0.000000                 0.000000       0.000000   \n",
       "25%          0.000000                 0.000000       0.000000   \n",
       "50%          1.000000                 7.500000       0.000000   \n",
       "75%          4.000000                93.256250       0.000000   \n",
       "max         27.000000              3398.750000      24.000000   \n",
       "\n",
       "       Informational_Duration  ProductRelated  ProductRelated_Duration  \\\n",
       "count            12330.000000    12330.000000             12330.000000   \n",
       "mean                34.472398       31.731468              1194.746220   \n",
       "std                140.749294       44.475503              1913.669288   \n",
       "min                  0.000000        0.000000                 0.000000   \n",
       "25%                  0.000000        7.000000               184.137500   \n",
       "50%                  0.000000       18.000000               598.936905   \n",
       "75%                  0.000000       38.000000              1464.157214   \n",
       "max               2549.375000      705.000000             63973.522230   \n",
       "\n",
       "        BounceRates     ExitRates    PageValues    SpecialDay  \\\n",
       "count  12330.000000  12330.000000  12330.000000  12330.000000   \n",
       "mean       0.022191      0.043073      5.889258      0.061427   \n",
       "std        0.048488      0.048597     18.568437      0.198917   \n",
       "min        0.000000      0.000000      0.000000      0.000000   \n",
       "25%        0.000000      0.014286      0.000000      0.000000   \n",
       "50%        0.003112      0.025156      0.000000      0.000000   \n",
       "75%        0.016813      0.050000      0.000000      0.000000   \n",
       "max        0.200000      0.200000    361.763742      1.000000   \n",
       "\n",
       "       OperatingSystems       Browser        Region   TrafficType  \n",
       "count      12330.000000  12330.000000  12330.000000  12330.000000  \n",
       "mean           2.124006      2.357097      3.147364      4.069586  \n",
       "std            0.911325      1.717277      2.401591      4.025169  \n",
       "min            1.000000      1.000000      1.000000      1.000000  \n",
       "25%            2.000000      2.000000      1.000000      2.000000  \n",
       "50%            2.000000      2.000000      3.000000      2.000000  \n",
       "75%            3.000000      2.000000      4.000000      4.000000  \n",
       "max            8.000000     13.000000      9.000000     20.000000  "
      ]
     },
     "execution_count": 13,
     "metadata": {},
     "output_type": "execute_result"
    }
   ],
   "source": [
    "df.describe()"
   ]
  },
  {
   "cell_type": "code",
   "execution_count": 16,
   "id": "74e49761",
   "metadata": {},
   "outputs": [
    {
     "name": "stdout",
     "output_type": "stream",
     "text": [
      " \n",
      "Count total NaN at each column in a DataFrame : \n",
      " Administrative             0\n",
      "Administrative_Duration    0\n",
      "Informational              0\n",
      "Informational_Duration     0\n",
      "ProductRelated             0\n",
      "ProductRelated_Duration    0\n",
      "BounceRates                0\n",
      "ExitRates                  0\n",
      "PageValues                 0\n",
      "SpecialDay                 0\n",
      "Month                      0\n",
      "OperatingSystems           0\n",
      "Browser                    0\n",
      "Region                     0\n",
      "TrafficType                0\n",
      "VisitorType                0\n",
      "Weekend                    0\n",
      "Revenue                    0\n",
      "dtype: int64\n"
     ]
    }
   ],
   "source": [
    "#Seeing the number of missing values for each column\n",
    "print(\" \\nCount total NaN at each column in a DataFrame : \\n\", df.isnull().sum())"
   ]
  },
  {
   "cell_type": "markdown",
   "id": "a0861ffb",
   "metadata": {},
   "source": [
    "Note that this dataset has no missing values."
   ]
  },
  {
   "cell_type": "markdown",
   "id": "93293981",
   "metadata": {},
   "source": [
    "# 2. Data Splitting and Transforming"
   ]
  },
  {
   "cell_type": "markdown",
   "id": "c728cc81",
   "metadata": {},
   "source": [
    "We now split this dataset into training, validation, and test sets. Furthermore, we standardize the numeric columns to have a mean of 0 and a variance of 1. We also use one hot encoding to transform the categorical variables, while dropping the first category of each variable to ensure linear independence in our dataset."
   ]
  },
  {
   "cell_type": "code",
   "execution_count": 30,
   "id": "e7cb75c6",
   "metadata": {},
   "outputs": [],
   "source": [
    "#Changing \"revenue\" column to a binary column\n",
    "df[\"Revenue\"] = df[\"Revenue\"].astype(int)"
   ]
  },
  {
   "cell_type": "code",
   "execution_count": 31,
   "id": "efbd9b51",
   "metadata": {},
   "outputs": [
    {
     "name": "stderr",
     "output_type": "stream",
     "text": [
      "Function get_feature_names is deprecated; get_feature_names is deprecated in 1.0 and will be removed in 1.2. Please use get_feature_names_out instead.\n"
     ]
    }
   ],
   "source": [
    "#Transforming the categorical variables through one hot encoding\n",
    "categorical_cols = ['Month','OperatingSystems','Browser','Region','TrafficType','VisitorType','Weekend']\n",
    "numeric_cols = ['Administrative','Administrative_Duration','Informational','Informational_Duration','ProductRelated','ProductRelated_Duration','BounceRates','ExitRates','PageValues','SpecialDay']\n",
    "ohe = OneHotEncoder(sparse=False,drop='first')\n",
    "oh_data = ohe.fit_transform(df[categorical_cols])\n",
    "oh_data = pd.DataFrame(oh_data, columns=ohe.get_feature_names())\n",
    " "
   ]
  },
  {
   "cell_type": "code",
   "execution_count": 92,
   "id": "c13f8bc4",
   "metadata": {},
   "outputs": [],
   "source": [
    "#Splitting the training data into train/test set with a 80/20 split\n",
    "train_rows = rng.choice(len(df), size = int(len(df)*0.8),replace=False) \n",
    "test_rows = list(set(range(len(df)))-set(train_rows))\n",
    "#Transforming the numeric variables through standardization\n",
    "ss = StandardScaler()\n",
    "ss.fit(df.iloc[train_rows][numeric_cols])\n",
    "numeric_standardized = pd.DataFrame(ss.transform(df[numeric_cols]),columns=numeric_cols)\n",
    "X = pd.concat([numeric_standardized,oh_data],axis = 1)\n",
    "X_train, X_test = X.iloc[train_rows],X.iloc[test_rows]\n",
    "y_train,y_test = df['Revenue'].iloc[train_rows],df['Revenue'].iloc[test_rows]\n",
    "\n",
    "#Further splitting for training/validation\n",
    "X_train_val, X_val = X.iloc[train_rows[:int(len(train_rows)*0.8)]],X.iloc[train_rows[int(len(train_rows)*0.8):]]\n",
    "y_train_val, y_val = df['Revenue'].iloc[train_rows[:int(len(train_rows)*0.8)]],df['Revenue'].iloc[train_rows[int(len(train_rows)*0.8):]]\n"
   ]
  },
  {
   "cell_type": "markdown",
   "id": "1f2727b0",
   "metadata": {},
   "source": [
    "# 3. Modeling, Machine Learning"
   ]
  },
  {
   "cell_type": "markdown",
   "id": "d3b329de",
   "metadata": {},
   "source": [
    "The dataset is pretty simple with only 17 features. Due to the low feature count and that none of the features are obviously independent from Revenue (no ID columns for instance), we will not be dropping any features. We will be exploring 3 models - logistic regression, SVM, and gradient boosting tree.\n",
    "\n",
    "Logistic Regression is a nice model to use since it is simple and easily interpretable. However, logistic regression makes a lot of assumptions about the data, primarily that the predictive features are independent of each other on their effect on the response variable, which I may not believe to be safe to assume. We will be using SVM and GBT to avoid having to do feature crossing or regularization. SVM and GBT also tend to perform very well on binary classification. For the GBT model, we will be choosing its number of estimators through cross validation.\n",
    "\n",
    "For model comparison, we will be using the average precision score due to the imbalance of the revenue column (~85% False, ~15% True). Also, for the final model, we will change its probability threshold from the default 0.5 to a value that maximizes [True Positive Rate * (1 - False Positive Rate)] using the validation set.\n",
    "\n",
    "We see that GBT preformed the best on the test set with a 85% accuracy, but considering that we can get a similar accuracy by predicting all 0s, this isn't particularly good. The F1 score, which is better for imbalanced datasets, confirms this.\n"
   ]
  },
  {
   "cell_type": "code",
   "execution_count": 46,
   "id": "e6de2ef4",
   "metadata": {},
   "outputs": [],
   "source": [
    "test = X_test.copy()"
   ]
  },
  {
   "cell_type": "code",
   "execution_count": 127,
   "id": "63dbd680",
   "metadata": {},
   "outputs": [
    {
     "name": "stdout",
     "output_type": "stream",
     "text": [
      "Logistic Regression Average Precision Score: 0.6548335664856125\n"
     ]
    }
   ],
   "source": [
    "# Logistic Regression\n",
    "lr = LogisticRegression(solver='newton-cg').fit(X_train, y_train)\n",
    "lr_test = lr.predict_proba(X_test)[:,1]\n",
    "print(\"Logistic Regression Average Precision Score:\",average_precision_score(y_test,lr_test))"
   ]
  },
  {
   "cell_type": "code",
   "execution_count": 116,
   "id": "0c13a314",
   "metadata": {},
   "outputs": [
    {
     "name": "stdout",
     "output_type": "stream",
     "text": [
      "SVM Accuracy Score: 0.9059205190592052\n",
      "SVM Average Precision Score: 0.6905922022322356\n"
     ]
    }
   ],
   "source": [
    "#SVM\n",
    "clf = svm.SVC(probability=True).fit(X_train,y_train)\n",
    "print(\"SVM Accuracy Score:\",clf.score(X_test, y_test))\n",
    "svm_test = clf.predict_proba(X_test)[:,1]\n",
    "print(\"SVM Average Precision Score:\",average_precision_score(y_test,svm_test))"
   ]
  },
  {
   "cell_type": "code",
   "execution_count": 121,
   "id": "8be89795",
   "metadata": {},
   "outputs": [
    {
     "name": "stderr",
     "output_type": "stream",
     "text": [
      "The use of label encoder in XGBClassifier is deprecated and will be removed in a future release. To remove this warning, do the following: 1) Pass option use_label_encoder=False when constructing XGBClassifier object; and 2) Encode your labels (y) as integers starting with 0, i.e. 0, 1, 2, ..., [num_class - 1].\n"
     ]
    },
    {
     "name": "stdout",
     "output_type": "stream",
     "text": [
      "GBT Accuracy Score: 0.9051094890510949\n",
      "GBT Average Precision Score: 0.7145897587255217\n"
     ]
    }
   ],
   "source": [
    "#Gradient Boosting Tree\n",
    "xg = xgb.XGBClassifier(verbosity = 0).fit(X_train,y_train)\n",
    "xg_test = xg.predict_proba(X_test)[:,1]\n",
    "print(\"GBT Accuracy Score:\",xg.score(X_test, y_test))\n",
    "print(\"GBT Average Precision Score:\",average_precision_score(y_test,xg_test))"
   ]
  },
  {
   "cell_type": "code",
   "execution_count": 113,
   "id": "80fb1a93",
   "metadata": {},
   "outputs": [],
   "source": [
    "#Cross validation to determine number of estimators for GBT\n",
    "gbt_cv = []\n",
    "for i in range(1,len(X_train.columns)+1):\n",
    "    xg = xgb.XGBClassifier(n_estimators=i,verbosity = 0,use_label_encoder=False).fit(X_train,y_train) \n",
    "    gbt_cv.append(cross_val_score(xg,X_train, y_train, cv=5).mean())"
   ]
  },
  {
   "cell_type": "code",
   "execution_count": 114,
   "id": "30c29992",
   "metadata": {},
   "outputs": [
    {
     "data": {
      "text/plain": [
       "5"
      ]
     },
     "execution_count": 114,
     "metadata": {},
     "output_type": "execute_result"
    }
   ],
   "source": [
    "#Our CV Optimal number of estimators\n",
    "np.argmax(np.array(gbt_cv)) + 1"
   ]
  },
  {
   "cell_type": "code",
   "execution_count": 123,
   "id": "bb0989a0",
   "metadata": {},
   "outputs": [],
   "source": [
    "xg = xgb.XGBClassifier(n_estimators=5,verbosity = 0).fit(X_train_val,y_train_val)\n",
    "xg_val = xg.predict_proba(X_val)[:,1]"
   ]
  },
  {
   "cell_type": "code",
   "execution_count": 124,
   "id": "712689b8",
   "metadata": {},
   "outputs": [],
   "source": [
    "# Compute ROC curve and ROC area for each class\n",
    "fpr, tpr, thresholds = roc_curve(y_val, xg_val)\n",
    "roc_auc = auc(fpr, tpr)"
   ]
  },
  {
   "cell_type": "code",
   "execution_count": 125,
   "id": "bbe8387a",
   "metadata": {},
   "outputs": [
    {
     "data": {
      "image/png": "[encoded data removed]",
      "text/plain": [
       "<Figure size 432x288 with 1 Axes>"
      ]
     },
     "metadata": {
      "needs_background": "light"
     },
     "output_type": "display_data"
    }
   ],
   "source": [
    "#Plotting the LR ROC Curve\n",
    "plt.figure()\n",
    "lw = 2\n",
    "plt.plot(\n",
    "    fpr,\n",
    "    tpr,\n",
    "    color=\"darkorange\",\n",
    "    lw=lw,\n",
    "    label=\"ROC curve (area = %0.2f)\" % roc_auc,\n",
    ")\n",
    "plt.plot([0, 1], [0, 1], color=\"navy\", lw=lw, linestyle=\"--\")\n",
    "plt.xlim([0.0, 1.0])\n",
    "plt.ylim([0.0, 1.0])\n",
    "plt.xlabel(\"False Positive Rate\")\n",
    "plt.ylabel(\"True Positive Rate\")\n",
    "plt.title(\"Receiver operating characteristic example\")\n",
    "plt.legend(loc=\"lower right\")\n",
    "plt.show()"
   ]
  },
  {
   "cell_type": "code",
   "execution_count": 126,
   "id": "3c8f3581",
   "metadata": {},
   "outputs": [
    {
     "data": {
      "text/plain": [
       "0.20534597"
      ]
     },
     "execution_count": 126,
     "metadata": {},
     "output_type": "execute_result"
    }
   ],
   "source": [
    "#Computing the best threshold\n",
    "gmeans = tpr * (1-fpr)\n",
    "id = np.argmax(gmeans)\n",
    "thresholds[id]"
   ]
  },
  {
   "cell_type": "code",
   "execution_count": 128,
   "id": "457fc6c9",
   "metadata": {},
   "outputs": [
    {
     "name": "stdout",
     "output_type": "stream",
     "text": [
      "Logistic Regression Accuracy: 0.8503649635036497\n",
      "Logistic Regression F1 Score: 0.6306306306306306\n"
     ]
    },
    {
     "name": "stderr",
     "output_type": "stream",
     "text": [
      "The use of label encoder in XGBClassifier is deprecated and will be removed in a future release. To remove this warning, do the following: 1) Pass option use_label_encoder=False when constructing XGBClassifier object; and 2) Encode your labels (y) as integers starting with 0, i.e. 0, 1, 2, ..., [num_class - 1].\n"
     ]
    }
   ],
   "source": [
    "#Evaluating GBT with updated Threshold on entire training set\n",
    "xg = xgb.XGBClassifier(n_estimators=5,verbosity = 0).fit(X_train,y_train)\n",
    "xg_test = (xg.predict_proba(X_test)[:,1] >= thresholds[id]).astype(int)\n",
    "print(\"GBT Accuracy:\", accuracy_score(y_test,xg_test))\n",
    "print(\"GBT F1 Score:\", f1_score(y_test,xg_test))"
   ]
  },
  {
   "cell_type": "markdown",
   "id": "16ff4218",
   "metadata": {},
   "source": [
    "# 4. Visualization"
   ]
  },
  {
   "cell_type": "markdown",
   "id": "2ddd8cb1",
   "metadata": {},
   "source": [
    "We inspect the feature importance for our GBT model using the SHAP graph. We see that the first few entries make sense, saying that high PageValues (avg. number of visits to a web page before purchase), November visits, and high Product Related page visits positively correlates with Revenue.\n",
    "\n",
    "We also inspect the Regression summary for a logistic regression model trained on the entire dataset. Looking at the z-statistics, it looks like the significant columns are Returning Visitor, the Month of visit, ExitRates and Page Value."
   ]
  },
  {
   "cell_type": "code",
   "execution_count": 137,
   "id": "cf78e8ca",
   "metadata": {},
   "outputs": [
    {
     "data": {
      "text/html": [
       "<div>\n",
       "<style scoped>\n",
       "    .dataframe tbody tr th:only-of-type {\n",
       "        vertical-align: middle;\n",
       "    }\n",
       "\n",
       "    .dataframe tbody tr th {\n",
       "        vertical-align: top;\n",
       "    }\n",
       "\n",
       "    .dataframe thead th {\n",
       "        text-align: right;\n",
       "    }\n",
       "</style>\n",
       "<table border=\"1\" class=\"dataframe\">\n",
       "  <thead>\n",
       "    <tr style=\"text-align: right;\">\n",
       "      <th></th>\n",
       "      <th>x0_Dec</th>\n",
       "      <th>x0_Feb</th>\n",
       "      <th>x0_Jul</th>\n",
       "      <th>x0_June</th>\n",
       "      <th>x0_Mar</th>\n",
       "      <th>x0_May</th>\n",
       "      <th>x0_Nov</th>\n",
       "      <th>x0_Oct</th>\n",
       "      <th>x0_Sep</th>\n",
       "      <th>x1_2</th>\n",
       "      <th>x1_3</th>\n",
       "      <th>x1_4</th>\n",
       "      <th>x1_5</th>\n",
       "      <th>x1_6</th>\n",
       "      <th>x1_7</th>\n",
       "      <th>x1_8</th>\n",
       "      <th>x2_2</th>\n",
       "      <th>x2_3</th>\n",
       "      <th>x2_4</th>\n",
       "      <th>x2_5</th>\n",
       "      <th>x2_6</th>\n",
       "      <th>x2_7</th>\n",
       "      <th>x2_8</th>\n",
       "      <th>x2_9</th>\n",
       "      <th>x2_10</th>\n",
       "      <th>x2_11</th>\n",
       "      <th>x2_12</th>\n",
       "      <th>x2_13</th>\n",
       "      <th>x3_2</th>\n",
       "      <th>x3_3</th>\n",
       "      <th>x3_4</th>\n",
       "      <th>x3_5</th>\n",
       "      <th>x3_6</th>\n",
       "      <th>x3_7</th>\n",
       "      <th>x3_8</th>\n",
       "      <th>x3_9</th>\n",
       "      <th>x4_2</th>\n",
       "      <th>x4_3</th>\n",
       "      <th>x4_4</th>\n",
       "      <th>x4_5</th>\n",
       "      <th>x4_6</th>\n",
       "      <th>x4_7</th>\n",
       "      <th>x4_8</th>\n",
       "      <th>x4_9</th>\n",
       "      <th>x4_10</th>\n",
       "      <th>x4_11</th>\n",
       "      <th>x4_12</th>\n",
       "      <th>x4_13</th>\n",
       "      <th>x4_14</th>\n",
       "      <th>x4_15</th>\n",
       "      <th>x4_16</th>\n",
       "      <th>x4_17</th>\n",
       "      <th>x4_18</th>\n",
       "      <th>x4_19</th>\n",
       "      <th>x4_20</th>\n",
       "      <th>x5_Other</th>\n",
       "      <th>x5_Returning_Visitor</th>\n",
       "      <th>x6_True</th>\n",
       "    </tr>\n",
       "  </thead>\n",
       "  <tbody>\n",
       "    <tr>\n",
       "      <th>0</th>\n",
       "      <td>0.0</td>\n",
       "      <td>1.0</td>\n",
       "      <td>0.0</td>\n",
       "      <td>0.0</td>\n",
       "      <td>0.0</td>\n",
       "      <td>0.0</td>\n",
       "      <td>0.0</td>\n",
       "      <td>0.0</td>\n",
       "      <td>0.0</td>\n",
       "      <td>0.0</td>\n",
       "      <td>0.0</td>\n",
       "      <td>0.0</td>\n",
       "      <td>0.0</td>\n",
       "      <td>0.0</td>\n",
       "      <td>0.0</td>\n",
       "      <td>0.0</td>\n",
       "      <td>0.0</td>\n",
       "      <td>0.0</td>\n",
       "      <td>0.0</td>\n",
       "      <td>0.0</td>\n",
       "      <td>0.0</td>\n",
       "      <td>0.0</td>\n",
       "      <td>0.0</td>\n",
       "      <td>0.0</td>\n",
       "      <td>0.0</td>\n",
       "      <td>0.0</td>\n",
       "      <td>0.0</td>\n",
       "      <td>0.0</td>\n",
       "      <td>0.0</td>\n",
       "      <td>0.0</td>\n",
       "      <td>0.0</td>\n",
       "      <td>0.0</td>\n",
       "      <td>0.0</td>\n",
       "      <td>0.0</td>\n",
       "      <td>0.0</td>\n",
       "      <td>0.0</td>\n",
       "      <td>0.0</td>\n",
       "      <td>0.0</td>\n",
       "      <td>0.0</td>\n",
       "      <td>0.0</td>\n",
       "      <td>0.0</td>\n",
       "      <td>0.0</td>\n",
       "      <td>0.0</td>\n",
       "      <td>0.0</td>\n",
       "      <td>0.0</td>\n",
       "      <td>0.0</td>\n",
       "      <td>0.0</td>\n",
       "      <td>0.0</td>\n",
       "      <td>0.0</td>\n",
       "      <td>0.0</td>\n",
       "      <td>0.0</td>\n",
       "      <td>0.0</td>\n",
       "      <td>0.0</td>\n",
       "      <td>0.0</td>\n",
       "      <td>0.0</td>\n",
       "      <td>0.0</td>\n",
       "      <td>1.0</td>\n",
       "      <td>0.0</td>\n",
       "    </tr>\n",
       "  </tbody>\n",
       "</table>\n",
       "</div>"
      ],
      "text/plain": [
       "   x0_Dec  x0_Feb  x0_Jul  x0_June  x0_Mar  x0_May  x0_Nov  x0_Oct  x0_Sep  \\\n",
       "0     0.0     1.0     0.0      0.0     0.0     0.0     0.0     0.0     0.0   \n",
       "\n",
       "   x1_2  x1_3  x1_4  x1_5  x1_6  x1_7  x1_8  x2_2  x2_3  x2_4  x2_5  x2_6  \\\n",
       "0   0.0   0.0   0.0   0.0   0.0   0.0   0.0   0.0   0.0   0.0   0.0   0.0   \n",
       "\n",
       "   x2_7  x2_8  x2_9  x2_10  x2_11  x2_12  x2_13  x3_2  x3_3  x3_4  x3_5  x3_6  \\\n",
       "0   0.0   0.0   0.0    0.0    0.0    0.0    0.0   0.0   0.0   0.0   0.0   0.0   \n",
       "\n",
       "   x3_7  x3_8  x3_9  x4_2  x4_3  x4_4  x4_5  x4_6  x4_7  x4_8  x4_9  x4_10  \\\n",
       "0   0.0   0.0   0.0   0.0   0.0   0.0   0.0   0.0   0.0   0.0   0.0    0.0   \n",
       "\n",
       "   x4_11  x4_12  x4_13  x4_14  x4_15  x4_16  x4_17  x4_18  x4_19  x4_20  \\\n",
       "0    0.0    0.0    0.0    0.0    0.0    0.0    0.0    0.0    0.0    0.0   \n",
       "\n",
       "   x5_Other  x5_Returning_Visitor  x6_True  \n",
       "0       0.0                   1.0      0.0  "
      ]
     },
     "execution_count": 137,
     "metadata": {},
     "output_type": "execute_result"
    }
   ],
   "source": [
    "oh_data.head(1)"
   ]
  },
  {
   "cell_type": "code",
   "execution_count": 135,
   "id": "a90f16bc",
   "metadata": {},
   "outputs": [
    {
     "name": "stderr",
     "output_type": "stream",
     "text": [
      "ntree_limit is deprecated, use `iteration_range` or model slicing instead.\n"
     ]
    },
    {
     "data": {
      "image/png": "[encoded data removed]",
      "text/plain": [
       "<Figure size 576x2066.4 with 2 Axes>"
      ]
     },
     "metadata": {
      "needs_background": "light"
     },
     "output_type": "display_data"
    }
   ],
   "source": [
    "#SHAP\n",
    "explainer = shap.Explainer(xg)\n",
    "sv = explainer(X_train) \n",
    "shap.plots.beeswarm(sv, max_display=None)"
   ]
  },
  {
   "cell_type": "code",
   "execution_count": 143,
   "id": "5a6db021",
   "metadata": {},
   "outputs": [
    {
     "name": "stdout",
     "output_type": "stream",
     "text": [
      "Optimization terminated successfully    (Exit mode 0)\n",
      "            Current function value: 0.2907474909968144\n",
      "            Iterations: 523\n",
      "            Function evaluations: 523\n",
      "            Gradient evaluations: 523\n",
      "                           Logit Regression Results                           \n",
      "==============================================================================\n",
      "Dep. Variable:                Revenue   No. Observations:                12330\n",
      "Model:                          Logit   Df Residuals:                    12262\n",
      "Method:                           MLE   Df Model:                           67\n",
      "Date:                Sun, 06 Mar 2022   Pseudo R-squ.:                  0.3252\n",
      "Time:                        23:33:10   Log-Likelihood:                -3584.9\n",
      "converged:                       True   LL-Null:                       -5312.4\n",
      "Covariance Type:            nonrobust   LLR p-value:                     0.000\n",
      "===========================================================================================\n",
      "                              coef    std err          z      P>|z|      [0.025      0.975]\n",
      "-------------------------------------------------------------------------------------------\n",
      "Administrative              0.0120      0.037      0.323      0.747      -0.061       0.085\n",
      "Administrative_Duration    -0.0277      0.033     -0.836      0.403      -0.093       0.037\n",
      "Informational               0.0446      0.034      1.308      0.191      -0.022       0.111\n",
      "Informational_Duration      0.0136      0.031      0.440      0.660      -0.047       0.074\n",
      "ProductRelated              0.0886      0.052      1.717      0.086      -0.013       0.190\n",
      "ProductRelated_Duration     0.1197      0.049      2.421      0.015       0.023       0.217\n",
      "BounceRates                -0.0377      0.141     -0.267      0.789      -0.314       0.239\n",
      "ExitRates                  -0.6549      0.111     -5.881      0.000      -0.873      -0.437\n",
      "PageValues                  1.5304      0.045     33.848      0.000       1.442       1.619\n",
      "SpecialDay                  0.0129      0.046      0.281      0.779      -0.077       0.103\n",
      "x0_Dec                     -1.7014      0.130    -13.088      0.000      -1.956      -1.447\n",
      "x0_Feb                     -2.7250      0.643     -4.236      0.000      -3.986      -1.464\n",
      "x0_Jul                     -0.8595      0.180     -4.785      0.000      -1.212      -0.507\n",
      "x0_June                    -1.2863      0.244     -5.279      0.000      -1.764      -0.809\n",
      "x0_Mar                     -1.5533      0.130    -11.971      0.000      -1.808      -1.299\n",
      "x0_May                     -1.4424      0.127    -11.333      0.000      -1.692      -1.193\n",
      "x0_Nov                     -0.4816      0.102     -4.722      0.000      -0.682      -0.282\n",
      "x0_Oct                     -1.0123      0.162     -6.248      0.000      -1.330      -0.695\n",
      "x0_Sep                     -0.9214      0.164     -5.605      0.000      -1.244      -0.599\n",
      "x1_2                        0.0243      0.163      0.150      0.881      -0.294       0.343\n",
      "x1_3                       -0.1492      0.172     -0.869      0.385      -0.486       0.187\n",
      "x1_4                       -0.2627      0.178     -1.475      0.140      -0.612       0.086\n",
      "x1_5                       -0.1525   2.87e+17  -5.31e-19      1.000   -5.63e+17    5.63e+17\n",
      "x1_6                       -1.0561      0.959     -1.101      0.271      -2.936       0.824\n",
      "x1_7                        0.8055      1.140      0.706      0.480      -1.430       3.041\n",
      "x1_8                        0.1756      0.640      0.275      0.784      -1.078       1.430\n",
      "x2_2                       -0.2885      0.165     -1.748      0.080      -0.612       0.035\n",
      "x2_3                       -1.1794      0.573     -2.058      0.040      -2.302      -0.056\n",
      "x2_4                       -0.2448      0.208     -1.178      0.239      -0.652       0.163\n",
      "x2_5                       -0.0902      0.225     -0.402      0.688      -0.531       0.350\n",
      "x2_6                       -0.5550      0.331     -1.678      0.093      -1.203       0.093\n",
      "x2_7                       -0.2626      0.507     -0.518      0.604      -1.256       0.731\n",
      "x2_8                       -0.1848      0.313     -0.590      0.555      -0.799       0.430\n",
      "x2_9                       -5.2875     82.187     -0.064      0.949    -166.371     155.796\n",
      "x2_10                      -0.0307      0.296     -0.104      0.917      -0.611       0.549\n",
      "x2_11                      -0.1525   2.87e+17  -5.31e-19      1.000   -5.63e+17    5.63e+17\n",
      "x2_12                       1.6589      0.766      2.165      0.030       0.157       3.161\n",
      "x2_13                      -0.0927      1.004     -0.092      0.926      -2.061       1.876\n",
      "x3_2                        0.0193      0.111      0.174      0.862      -0.198       0.236\n",
      "x3_3                       -0.1440      0.087     -1.648      0.099      -0.315       0.027\n",
      "x3_4                       -0.1823      0.113     -1.609      0.108      -0.404       0.040\n",
      "x3_5                       -0.3392      0.211     -1.607      0.108      -0.753       0.074\n",
      "x3_6                       -0.0940      0.133     -0.708      0.479      -0.354       0.166\n",
      "x3_7                       -0.1238      0.135     -0.916      0.359      -0.388       0.141\n",
      "x3_8                       -0.1239      0.173     -0.717      0.473      -0.463       0.215\n",
      "x3_9                       -0.3657      0.174     -2.101      0.036      -0.707      -0.025\n",
      "x4_2                       -0.1532      0.071     -2.170      0.030      -0.292      -0.015\n",
      "x4_3                       -0.5869      0.097     -6.053      0.000      -0.777      -0.397\n",
      "x4_4                       -0.3444      0.126     -2.738      0.006      -0.591      -0.098\n",
      "x4_5                       -0.3659      0.206     -1.772      0.076      -0.771       0.039\n",
      "x4_6                       -0.3798      0.188     -2.017      0.044      -0.749      -0.011\n",
      "x4_7                        0.1277      0.472      0.270      0.787      -0.798       1.054\n",
      "x4_8                        0.1955      0.186      1.054      0.292      -0.168       0.559\n",
      "x4_9                       -0.3330      0.677     -0.492      0.623      -1.659       0.993\n",
      "x4_10                       0.1452      0.156      0.931      0.352      -0.161       0.451\n",
      "x4_11                       0.1857      0.077      2.417      0.016       0.035       0.336\n",
      "x4_12                      -5.5582     91.366     -0.061      0.951    -184.633     173.517\n",
      "x4_13                      -0.8019      0.186     -4.320      0.000      -1.166      -0.438\n",
      "x4_14                      -0.8218      1.168     -0.704      0.482      -3.110       1.467\n",
      "x4_15                     -54.6024   4.48e+11  -1.22e-10      1.000   -8.78e+11    8.78e+11\n",
      "x4_16                       1.6512      1.255      1.316      0.188      -0.808       4.110\n",
      "x4_17                      -7.8210    230.683     -0.034      0.973    -459.951     444.309\n",
      "x4_18                     -39.0761    3.9e+08     -1e-07      1.000   -7.65e+08    7.65e+08\n",
      "x4_19                      -1.4037      1.372     -1.023      0.306      -4.092       1.285\n",
      "x4_20                       0.2275      0.263      0.864      0.388      -0.289       0.744\n",
      "x5_Other                   -0.8756      0.754     -1.161      0.246      -2.354       0.603\n",
      "x5_Returning_Visitor       -0.6004      0.075     -8.001      0.000      -0.748      -0.453\n",
      "x6_True                     0.0168      0.071      0.238      0.812      -0.122       0.155\n",
      "===========================================================================================\n"
     ]
    }
   ],
   "source": [
    "import statsmodels.api as sm\n",
    "log_reg_mult = sm.Logit(df['Revenue'], X).fit_regularized()\n",
    "print(log_reg_mult.summary())"
   ]
  },
  {
   "cell_type": "code",
   "execution_count": null,
   "id": "6ab0c281",
   "metadata": {},
   "outputs": [],
   "source": []
  }
 ],
 "metadata": {
  "kernelspec": {
   "display_name": "pymc3_env",
   "language": "python",
   "name": "pymc3_env"
  },
  "language_info": {
   "codemirror_mode": {
    "name": "ipython",
    "version": 3
   },
   "file_extension": ".py",
   "mimetype": "text/x-python",
   "name": "python",
   "nbconvert_exporter": "python",
   "pygments_lexer": "ipython3",
   "version": "3.9.7"
  }
 },
 "nbformat": 4,
 "nbformat_minor": 5
}
